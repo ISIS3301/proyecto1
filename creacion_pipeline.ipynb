{
 "cells": [
  {
   "cell_type": "code",
   "execution_count": 186,
   "id": "ebd8f96c",
   "metadata": {},
   "outputs": [],
   "source": [
    "import imp\n",
    "import pandas as pd\n",
    "\n",
    "from joblib import dump, load\n",
    "\n",
    "import matplotlib.pyplot as plt\n",
    "import seaborn as sns\n",
    "\n",
    "from sklearn.linear_model import LinearRegression\n",
    "from sklearn.pipeline import Pipeline\n",
    "from sklearn.compose import ColumnTransformer\n",
    "from sklearn.preprocessing import MinMaxScaler\n",
    "from sklearn.metrics import accuracy_score, confusion_matrix, ConfusionMatrixDisplay, precision_score, recall_score, f1_score, mean_absolute_error\n",
    "from sklearn.model_selection import train_test_split\n",
    "\n",
    "import scipy.stats as stats\n",
    "\n",
    "import json"
   ]
  },
  {
   "cell_type": "code",
   "execution_count": 187,
   "id": "201ad421",
   "metadata": {},
   "outputs": [],
   "source": [
    "pd.set_option('display.max_columns', None)\n",
    "pd.set_option('display.max_rows', 50)"
   ]
  },
  {
   "cell_type": "markdown",
   "id": "b56019fd",
   "metadata": {},
   "source": [
    "## 1. Carga de los datos"
   ]
  },
  {
   "cell_type": "code",
   "execution_count": 188,
   "id": "f2ad9bfa",
   "metadata": {},
   "outputs": [],
   "source": [
    "df = pd.read_csv('./data/university_admission_train.csv')"
   ]
  },
  {
   "cell_type": "code",
   "execution_count": 189,
   "id": "4561e55e",
   "metadata": {},
   "outputs": [
    {
     "data": {
      "text/plain": [
       "(1569, 10)"
      ]
     },
     "execution_count": 189,
     "metadata": {},
     "output_type": "execute_result"
    }
   ],
   "source": [
    "df.shape"
   ]
  },
  {
   "cell_type": "code",
   "execution_count": 190,
   "id": "222c2df1",
   "metadata": {},
   "outputs": [
    {
     "data": {
      "text/html": [
       "<div>\n",
       "<style scoped>\n",
       "    .dataframe tbody tr th:only-of-type {\n",
       "        vertical-align: middle;\n",
       "    }\n",
       "\n",
       "    .dataframe tbody tr th {\n",
       "        vertical-align: top;\n",
       "    }\n",
       "\n",
       "    .dataframe thead th {\n",
       "        text-align: right;\n",
       "    }\n",
       "</style>\n",
       "<table border=\"1\" class=\"dataframe\">\n",
       "  <thead>\n",
       "    <tr style=\"text-align: right;\">\n",
       "      <th></th>\n",
       "      <th>Unnamed: 0</th>\n",
       "      <th>Serial No.</th>\n",
       "      <th>GRE Score</th>\n",
       "      <th>TOEFL Score</th>\n",
       "      <th>University Rating</th>\n",
       "      <th>SOP</th>\n",
       "      <th>LOR</th>\n",
       "      <th>CGPA</th>\n",
       "      <th>Research</th>\n",
       "      <th>Admission Points</th>\n",
       "    </tr>\n",
       "  </thead>\n",
       "  <tbody>\n",
       "    <tr>\n",
       "      <th>0</th>\n",
       "      <td>0</td>\n",
       "      <td>479</td>\n",
       "      <td>327</td>\n",
       "      <td>113</td>\n",
       "      <td>4</td>\n",
       "      <td>4.00</td>\n",
       "      <td>2.77</td>\n",
       "      <td>8.88</td>\n",
       "      <td>1</td>\n",
       "      <td>84.47</td>\n",
       "    </tr>\n",
       "    <tr>\n",
       "      <th>1</th>\n",
       "      <td>1</td>\n",
       "      <td>446</td>\n",
       "      <td>301</td>\n",
       "      <td>92</td>\n",
       "      <td>1</td>\n",
       "      <td>1.85</td>\n",
       "      <td>1.50</td>\n",
       "      <td>7.71</td>\n",
       "      <td>0</td>\n",
       "      <td>45.08</td>\n",
       "    </tr>\n",
       "    <tr>\n",
       "      <th>2</th>\n",
       "      <td>2</td>\n",
       "      <td>336</td>\n",
       "      <td>297</td>\n",
       "      <td>100</td>\n",
       "      <td>1</td>\n",
       "      <td>2.41</td>\n",
       "      <td>1.59</td>\n",
       "      <td>7.89</td>\n",
       "      <td>0</td>\n",
       "      <td>47.42</td>\n",
       "    </tr>\n",
       "    <tr>\n",
       "      <th>3</th>\n",
       "      <td>3</td>\n",
       "      <td>20</td>\n",
       "      <td>303</td>\n",
       "      <td>98</td>\n",
       "      <td>3</td>\n",
       "      <td>3.50</td>\n",
       "      <td>3.00</td>\n",
       "      <td>8.50</td>\n",
       "      <td>0</td>\n",
       "      <td>62.00</td>\n",
       "    </tr>\n",
       "    <tr>\n",
       "      <th>4</th>\n",
       "      <td>4</td>\n",
       "      <td>432</td>\n",
       "      <td>320</td>\n",
       "      <td>94</td>\n",
       "      <td>2</td>\n",
       "      <td>1.38</td>\n",
       "      <td>3.50</td>\n",
       "      <td>8.78</td>\n",
       "      <td>1</td>\n",
       "      <td>73.00</td>\n",
       "    </tr>\n",
       "  </tbody>\n",
       "</table>\n",
       "</div>"
      ],
      "text/plain": [
       "   Unnamed: 0  Serial No.  GRE Score  TOEFL Score  University Rating   SOP  \\\n",
       "0           0         479        327          113                  4  4.00   \n",
       "1           1         446        301           92                  1  1.85   \n",
       "2           2         336        297          100                  1  2.41   \n",
       "3           3          20        303           98                  3  3.50   \n",
       "4           4         432        320           94                  2  1.38   \n",
       "\n",
       "   LOR   CGPA  Research  Admission Points  \n",
       "0  2.77  8.88         1             84.47  \n",
       "1  1.50  7.71         0             45.08  \n",
       "2  1.59  7.89         0             47.42  \n",
       "3  3.00  8.50         0             62.00  \n",
       "4  3.50  8.78         1             73.00  "
      ]
     },
     "execution_count": 190,
     "metadata": {},
     "output_type": "execute_result"
    }
   ],
   "source": [
    "df.head(5)"
   ]
  },
  {
   "cell_type": "markdown",
   "id": "32642202",
   "metadata": {},
   "source": [
    "Al hacer un .head() podemos evidenciar que los datos contienen únicamente valores numéricos que corresponden generalmente a valores de verdad o puntajes en rangos determinados, en el diccionario de datos brindado."
   ]
  },
  {
   "cell_type": "markdown",
   "id": "5ef0e36d",
   "metadata": {},
   "source": [
    "### Eliminamos la columna Unnamed: 0\n",
    "Esta columna no aporta nada al modelo ya que es la mala construcción de un identificador y no es influyente en la columna objetivo \"Admission Points\""
   ]
  },
  {
   "cell_type": "code",
   "execution_count": 191,
   "id": "d00c4ed9",
   "metadata": {},
   "outputs": [],
   "source": [
    "df = df.drop(columns=['Unnamed: 0'])"
   ]
  },
  {
   "cell_type": "markdown",
   "id": "f2f6208c",
   "metadata": {},
   "source": [
    "# Eliminamos todas las filas que tengan algun valor nulo"
   ]
  },
  {
   "cell_type": "code",
   "execution_count": 192,
   "id": "f27b416c",
   "metadata": {},
   "outputs": [],
   "source": [
    "# Se eliminan las filas que tengan valores nulos en la columna Admission Points debido a que esa es la \n",
    "# variable objetivo y necesitamos predecirla. \n",
    "df = df.dropna()"
   ]
  },
  {
   "cell_type": "markdown",
   "id": "05f9028b",
   "metadata": {},
   "source": [
    "# Dividimos los datos en train y en test"
   ]
  },
  {
   "cell_type": "code",
   "execution_count": 193,
   "id": "112df841",
   "metadata": {},
   "outputs": [],
   "source": [
    "X_train, X_test, Y_train, Y_test = train_test_split(df, df[\"Admission Points\"], test_size=0.2, random_state=1)"
   ]
  },
  {
   "cell_type": "markdown",
   "id": "994e104e",
   "metadata": {},
   "source": [
    "## Entrenamiento para un primera modelo de regresion"
   ]
  },
  {
   "cell_type": "markdown",
   "id": "f7240971",
   "metadata": {},
   "source": [
    "## Creamos el ColumnTransformer\n",
    "Aqui se normalizamos entre 0 y 1 las columnas que vamos a utilizar y se eliminan las columnas que no necesitamos."
   ]
  },
  {
   "cell_type": "code",
   "execution_count": 194,
   "id": "1eb4b610",
   "metadata": {},
   "outputs": [],
   "source": [
    "ct = ColumnTransformer(\n",
    "    [(\"gre_preprocess\", MinMaxScaler(), [\"GRE Score\", \"University Rating\", \"SOP\", \"CGPA\", \"Research\"]),\n",
    "    (\"drop_columns\", \"drop\", ['Serial No.', \"TOEFL Score\", \"LOR \"])])"
   ]
  },
  {
   "cell_type": "markdown",
   "id": "23f3cfc2",
   "metadata": {},
   "source": [
    "### Creamos el PipeLine \n",
    "Creamos el Pipeline con el ColumnTransformer que creamos arriba y con un modelo de regresion lineal"
   ]
  },
  {
   "cell_type": "code",
   "execution_count": 195,
   "id": "c77fa511",
   "metadata": {},
   "outputs": [],
   "source": [
    "pipeline = Pipeline(\n",
    "    [\n",
    "        ('feature_selection', ct),\n",
    "        ('model', LinearRegression())\n",
    "    ]\n",
    ")"
   ]
  },
  {
   "cell_type": "code",
   "execution_count": 196,
   "id": "c1bd1fef",
   "metadata": {},
   "outputs": [],
   "source": [
    "pipeline = pipeline.fit(X_train, Y_train)"
   ]
  },
  {
   "cell_type": "markdown",
   "id": "284fbb35",
   "metadata": {},
   "source": [
    "## 4. Analisis de coeficientes"
   ]
  },
  {
   "cell_type": "code",
   "execution_count": 197,
   "id": "25d8cdf7",
   "metadata": {},
   "outputs": [],
   "source": [
    "preds_train = pipeline.predict(X_train)\n",
    "preds_test = pipeline.predict(X_test)"
   ]
  },
  {
   "cell_type": "code",
   "execution_count": 198,
   "id": "a5954c3d",
   "metadata": {},
   "outputs": [
    {
     "data": {
      "text/plain": [
       "0.70333362037035"
      ]
     },
     "execution_count": 198,
     "metadata": {},
     "output_type": "execute_result"
    }
   ],
   "source": [
    "pipeline.score(X_train, Y_train)"
   ]
  },
  {
   "cell_type": "code",
   "execution_count": 199,
   "id": "36e27709",
   "metadata": {},
   "outputs": [
    {
     "data": {
      "text/plain": [
       "0.7017157637189441"
      ]
     },
     "execution_count": 199,
     "metadata": {},
     "output_type": "execute_result"
    }
   ],
   "source": [
    "pipeline.score(X_test, Y_test)"
   ]
  },
  {
   "cell_type": "code",
   "execution_count": 200,
   "id": "85fd7696",
   "metadata": {},
   "outputs": [
    {
     "name": "stdout",
     "output_type": "stream",
     "text": [
      "MAE ERRROR TRAIN:  7.9474396268892535\n"
     ]
    }
   ],
   "source": [
    "mae_error_train = mean_absolute_error(Y_train, preds_train)\n",
    "print(\"MAE ERRROR TRAIN: \", mae_error_train)"
   ]
  },
  {
   "cell_type": "code",
   "execution_count": 201,
   "id": "d8e667e0",
   "metadata": {},
   "outputs": [
    {
     "name": "stdout",
     "output_type": "stream",
     "text": [
      "MAE ERRROR TEST:  7.3845448676606535\n"
     ]
    }
   ],
   "source": [
    "mae_error_test = mean_absolute_error(Y_test, preds_test)\n",
    "print(\"MAE ERRROR TEST: \", mae_error_test)"
   ]
  },
  {
   "cell_type": "markdown",
   "id": "fa85328d",
   "metadata": {},
   "source": [
    "## 5. Persistencia modelo"
   ]
  },
  {
   "cell_type": "markdown",
   "id": "2b7896c2",
   "metadata": {},
   "source": [
    "Definición del $PATH donde se va a persistir el .joblib"
   ]
  },
  {
   "cell_type": "code",
   "execution_count": 202,
   "id": "8e8eb02e",
   "metadata": {},
   "outputs": [],
   "source": [
    "filename = './assets/modelo.joblib'"
   ]
  },
  {
   "cell_type": "markdown",
   "id": "027c732f",
   "metadata": {},
   "source": [
    "Persistencia del .joblib con el pipeline"
   ]
  },
  {
   "cell_type": "code",
   "execution_count": 203,
   "id": "8998edd2",
   "metadata": {},
   "outputs": [
    {
     "data": {
      "text/plain": [
       "['./assets/modelo.joblib']"
      ]
     },
     "execution_count": 203,
     "metadata": {},
     "output_type": "execute_result"
    }
   ],
   "source": [
    "dump(pipeline, filename) "
   ]
  },
  {
   "cell_type": "markdown",
   "id": "5ceea8a9",
   "metadata": {},
   "source": [
    "Prueba del pipeline mediante la carga del .joblib"
   ]
  },
  {
   "cell_type": "code",
   "execution_count": 204,
   "id": "d1389de4",
   "metadata": {},
   "outputs": [],
   "source": [
    "pipeline2 = load(filename)"
   ]
  },
  {
   "cell_type": "markdown",
   "id": "e2228ad2",
   "metadata": {},
   "source": [
    "Ejecución del modelo mediante el pipeline con los datos previamente spliteados"
   ]
  },
  {
   "cell_type": "code",
   "execution_count": 205,
   "id": "5aa6111d",
   "metadata": {},
   "outputs": [
    {
     "data": {
      "text/plain": [
       "0.7017157637189441"
      ]
     },
     "execution_count": 205,
     "metadata": {},
     "output_type": "execute_result"
    }
   ],
   "source": [
    "pipeline2.score(X_test, Y_test)"
   ]
  },
  {
   "cell_type": "markdown",
   "id": "f17ea6e5",
   "metadata": {},
   "source": [
    "Generación de las predicciones con el dataset de pruebas"
   ]
  },
  {
   "cell_type": "code",
   "execution_count": 206,
   "id": "e88fff40",
   "metadata": {},
   "outputs": [],
   "source": [
    "df2 = pd.read_csv('./data/university_admission_test.csv')"
   ]
  },
  {
   "cell_type": "code",
   "execution_count": 207,
   "id": "1f12e640",
   "metadata": {},
   "outputs": [],
   "source": [
    "p = pipeline2.predict(df2)"
   ]
  }
 ],
 "metadata": {
  "kernelspec": {
   "display_name": "Python 3.9.13 64-bit",
   "language": "python",
   "name": "python3"
  },
  "language_info": {
   "codemirror_mode": {
    "name": "ipython",
    "version": 3
   },
   "file_extension": ".py",
   "mimetype": "text/x-python",
   "name": "python",
   "nbconvert_exporter": "python",
   "pygments_lexer": "ipython3",
   "version": "3.9.13"
  },
  "vscode": {
   "interpreter": {
    "hash": "397704579725e15f5c7cb49fe5f0341eb7531c82d19f2c29d197e8b64ab5776b"
   }
  }
 },
 "nbformat": 4,
 "nbformat_minor": 5
}
